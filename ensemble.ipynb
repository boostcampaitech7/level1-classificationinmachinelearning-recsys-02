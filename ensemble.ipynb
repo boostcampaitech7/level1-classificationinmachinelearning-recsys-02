{
 "cells": [
  {
   "cell_type": "markdown",
   "metadata": {},
   "source": [
    "## 모델 앙상블"
   ]
  },
  {
   "cell_type": "markdown",
   "metadata": {},
   "source": [
    "### Library Import"
   ]
  },
  {
   "cell_type": "code",
   "execution_count": 1,
   "metadata": {},
   "outputs": [],
   "source": [
    "import os\n",
    "import pandas as pd\n",
    "\n",
    "import matplotlib.pyplot as plt\n",
    "import seaborn as sns\n",
    "from sklearn.metrics import confusion_matrix\n",
    "\n",
    "from model.train import train_model, test\n",
    "from dataloader.dataset_load import data_split, _Dataset\n",
    "\n",
    "import csv\n",
    "from datetime import datetime, timedelta"
   ]
  },
  {
   "cell_type": "markdown",
   "metadata": {},
   "source": [
    "### 파라미터 세팅"
   ]
  },
  {
   "cell_type": "code",
   "execution_count": 2,
   "metadata": {},
   "outputs": [],
   "source": [
    "def model_params(model_name):\n",
    "    # lgbm params\n",
    "    lgbm_params = {\n",
    "        \"boosting_type\": \"gbdt\",\n",
    "        \"objective\": \"multiclass\",\n",
    "        \"metric\": \"multi_logloss\",\n",
    "        \"num_class\": 4,\n",
    "        \"num_leaves\": 50,\n",
    "        \"learning_rate\": 0.05,\n",
    "        \"n_estimators\": 30,\n",
    "        \"random_state\": 42,\n",
    "        \"verbose\": 0,\n",
    "    }\n",
    "\n",
    "    xgb_params = {\n",
    "        \"objective\": \"multi:softprob\",\n",
    "        \"num_class\": 4,\n",
    "        \"max_depth\": 6,\n",
    "        \"learning_rate\": 0.02,\n",
    "        \"n_estimators\": 100,\n",
    "        \"random_state\": 42,\n",
    "        'verbosity': 0\n",
    "    }\n",
    "\n",
    "    rf_params = {\n",
    "        \"n_estimators\": 100,\n",
    "        \"max_depth\": None,\n",
    "        \"min_samples_split\": 2,\n",
    "        \"min_samples_leaf\": 1,\n",
    "        \"max_features\": 'sqrt',\n",
    "        \"bootstrap\": True,\n",
    "        \"criterion\": 'gini',\n",
    "        \"random_state\": 42,\n",
    "        \"n_jobs\": 1\n",
    "    }\n",
    "\n",
    "    catboost_params = {\n",
    "        \"iterations\": 1000,\n",
    "        \"learning_rate\": 0.1,\n",
    "        \"depth\": 6,\n",
    "        \"loss_function\": \"Logloss\",\n",
    "        \"eval_metric\": \"AUC\",\n",
    "        \"random_seed\": 42,\n",
    "        \"verbose\": 100,\n",
    "        \"l2_leaf_reg\": 3,\n",
    "        \"bagging_temperature\": 1,\n",
    "        \"cat_features\": [],\n",
    "        \"loss_function\":'MultiClass'\n",
    "    }\n",
    "    \n",
    "    from focal_loss import focal_loss_lgb\n",
    "    focal_loss = lambda x,y: focal_loss_lgb(x, y, 0.25, 2.0, 4)\n",
    "    fclgbm_params = { \"num_class\":4,\n",
    "            \"objective\": focal_loss,\n",
    "            \"boosting_type\": \"gbdt\",\n",
    "            \"num_class\": 4,\n",
    "            \"num_leaves\": 60,\n",
    "            \"learning_rate\": 0.05,\n",
    "            \"n_estimators\": 26,\n",
    "            \"random_state\": 42,\n",
    "            \"verbose\": 0,\n",
    "    }\n",
    "    svm_params = {\n",
    "        \"C\": 1.0,\n",
    "        \"kernel\": \"rbf\",\n",
    "        \"degree\": 3,\n",
    "        \"gamma\": \"scale\",\n",
    "        \"coef0\": 0.0,\n",
    "        \"shrinking\": True,\n",
    "        \"probability\": True,\n",
    "        \"tol\": 1e-3,\n",
    "        \"max_iter\": -1,\n",
    "    }\n",
    "\n",
    "    if model_name == \"LGBM\":\n",
    "        return lgbm_params\n",
    "    elif model_name == \"FCLGBM\":\n",
    "        return fclgbm_params\n",
    "    elif model_name == \"XGB\":\n",
    "        return xgb_params\n",
    "    elif model_name == \"RF\":\n",
    "        return rf_params\n",
    "    elif model_name == \"CatBoost\":\n",
    "        return catboost_params\n",
    "    elif model_name == \"SVM\":\n",
    "        return svm_params\n",
    "    else:\n",
    "        print(\"Invalid model name. (Params)\")"
   ]
  },
  {
   "cell_type": "markdown",
   "metadata": {},
   "source": [
    "### Dataset Load"
   ]
  },
  {
   "cell_type": "code",
   "execution_count": 3,
   "metadata": {},
   "outputs": [],
   "source": [
    "dataset_name = \"train_yh.csv\"\n",
    "split_type = \"random\" # random/time"
   ]
  },
  {
   "cell_type": "code",
   "execution_count": 4,
   "metadata": {},
   "outputs": [],
   "source": [
    "# 파일 호출\n",
    "data_path: str = \"../../data\"\n",
    "df: pd.DataFrame = pd.read_csv(os.path.join(data_path, dataset_name))\n",
    "df.columns = df.columns.str.replace(r'[^\\w\\s]', '', regex=True)\n",
    "submission_df: pd.DataFrame = pd.read_csv(os.path.join(data_path, \"test.csv\")) # ID, target 열만 가진 데이터 미리 호출"
   ]
  },
  {
   "cell_type": "code",
   "execution_count": 5,
   "metadata": {},
   "outputs": [],
   "source": [
    "# 타겟 변수를 제외한 변수를 forwardfill, -999로 결측치 대체\n",
    "_target = df[\"target\"]\n",
    "df = df.ffill().fillna(-999).assign(target = _target)\n",
    "\n",
    "# _type에 따라 train, test 분리\n",
    "train_df = df.loc[df[\"_type\"]==\"train\"].drop(columns=[\"_type\"])\n",
    "test_df = df.loc[df[\"_type\"]==\"test\"].drop(columns=[\"_type\"])"
   ]
  },
  {
   "cell_type": "markdown",
   "metadata": {},
   "source": [
    "### 시각화"
   ]
  },
  {
   "cell_type": "code",
   "execution_count": 6,
   "metadata": {},
   "outputs": [],
   "source": [
    "def show_cm(y_valid, y_pred):\n",
    "    cm=confusion_matrix(y_valid, y_pred)\n",
    "\n",
    "    plt.figure(figsize=(6,4))\n",
    "    sns.heatmap(cm,annot=True,fmt=\"d\",cmap=\"Blues\")\n",
    "    plt.xlabel(\"Predicted\")\n",
    "    plt.ylabel(\"Actual\")\n",
    "    plt.title('Confusion Matrix')\n",
    "    plt.show()"
   ]
  },
  {
   "cell_type": "code",
   "execution_count": 7,
   "metadata": {},
   "outputs": [],
   "source": [
    "def prepare_model(model_name, drop_colunm, target_colunm):\n",
    "    params = model_params(model_name)\n",
    "    x_train, x_valid, y_train, y_valid = data_split(split_type, train_df, drop_colunm, target_colunm)\n",
    "    train_data, valid_data = _Dataset(model_name, x_train, x_valid, y_train, y_valid)\n",
    "    model, y_pred, accuracy, auroc = train_model(model_name, params, x_train, x_valid, y_train, y_valid, train_data, valid_data)\n",
    "    return model"
   ]
  },
  {
   "cell_type": "markdown",
   "metadata": {},
   "source": [
    "### Model Training"
   ]
  },
  {
   "cell_type": "code",
   "execution_count": 8,
   "metadata": {},
   "outputs": [
    {
     "name": "stdout",
     "output_type": "stream",
     "text": [
      "[0]\tvalidation_0-mlogloss:1.37996\n",
      "[1]\tvalidation_0-mlogloss:1.37381\n",
      "[2]\tvalidation_0-mlogloss:1.36780\n",
      "[3]\tvalidation_0-mlogloss:1.36190\n",
      "[4]\tvalidation_0-mlogloss:1.35601\n",
      "[5]\tvalidation_0-mlogloss:1.35060\n",
      "[6]\tvalidation_0-mlogloss:1.34542\n",
      "[7]\tvalidation_0-mlogloss:1.34003\n",
      "[8]\tvalidation_0-mlogloss:1.33498\n",
      "[9]\tvalidation_0-mlogloss:1.32979\n",
      "[10]\tvalidation_0-mlogloss:1.32507\n",
      "[11]\tvalidation_0-mlogloss:1.32052\n",
      "[12]\tvalidation_0-mlogloss:1.31585\n",
      "[13]\tvalidation_0-mlogloss:1.31144\n",
      "[14]\tvalidation_0-mlogloss:1.30683\n",
      "[15]\tvalidation_0-mlogloss:1.30257\n",
      "[16]\tvalidation_0-mlogloss:1.29826\n",
      "[17]\tvalidation_0-mlogloss:1.29408\n",
      "[18]\tvalidation_0-mlogloss:1.29011\n",
      "[19]\tvalidation_0-mlogloss:1.28615\n",
      "[20]\tvalidation_0-mlogloss:1.28232\n",
      "[21]\tvalidation_0-mlogloss:1.27865\n",
      "[22]\tvalidation_0-mlogloss:1.27499\n",
      "[23]\tvalidation_0-mlogloss:1.27168\n",
      "[24]\tvalidation_0-mlogloss:1.26819\n",
      "[25]\tvalidation_0-mlogloss:1.26506\n",
      "[26]\tvalidation_0-mlogloss:1.26180\n",
      "[27]\tvalidation_0-mlogloss:1.25876\n",
      "[28]\tvalidation_0-mlogloss:1.25545\n",
      "[29]\tvalidation_0-mlogloss:1.25232\n",
      "[30]\tvalidation_0-mlogloss:1.24944\n",
      "[31]\tvalidation_0-mlogloss:1.24651\n",
      "[32]\tvalidation_0-mlogloss:1.24367\n",
      "[33]\tvalidation_0-mlogloss:1.24080\n",
      "[34]\tvalidation_0-mlogloss:1.23835\n",
      "[35]\tvalidation_0-mlogloss:1.23572\n",
      "[36]\tvalidation_0-mlogloss:1.23319\n",
      "[37]\tvalidation_0-mlogloss:1.23048\n",
      "[38]\tvalidation_0-mlogloss:1.22798\n",
      "[39]\tvalidation_0-mlogloss:1.22562\n",
      "[40]\tvalidation_0-mlogloss:1.22320\n",
      "[41]\tvalidation_0-mlogloss:1.22096\n",
      "[42]\tvalidation_0-mlogloss:1.21877\n",
      "[43]\tvalidation_0-mlogloss:1.21643\n",
      "[44]\tvalidation_0-mlogloss:1.21414\n",
      "[45]\tvalidation_0-mlogloss:1.21176\n",
      "[46]\tvalidation_0-mlogloss:1.20959\n",
      "[47]\tvalidation_0-mlogloss:1.20762\n",
      "[48]\tvalidation_0-mlogloss:1.20544\n",
      "[49]\tvalidation_0-mlogloss:1.20342\n",
      "[50]\tvalidation_0-mlogloss:1.20139\n",
      "[51]\tvalidation_0-mlogloss:1.19943\n",
      "[52]\tvalidation_0-mlogloss:1.19750\n",
      "[53]\tvalidation_0-mlogloss:1.19574\n",
      "[54]\tvalidation_0-mlogloss:1.19389\n",
      "[55]\tvalidation_0-mlogloss:1.19197\n",
      "[56]\tvalidation_0-mlogloss:1.19036\n",
      "[57]\tvalidation_0-mlogloss:1.18863\n",
      "[58]\tvalidation_0-mlogloss:1.18716\n",
      "[59]\tvalidation_0-mlogloss:1.18543\n",
      "[60]\tvalidation_0-mlogloss:1.18392\n",
      "[61]\tvalidation_0-mlogloss:1.18223\n",
      "[62]\tvalidation_0-mlogloss:1.18074\n",
      "[63]\tvalidation_0-mlogloss:1.17926\n",
      "[64]\tvalidation_0-mlogloss:1.17778\n",
      "[65]\tvalidation_0-mlogloss:1.17616\n",
      "[66]\tvalidation_0-mlogloss:1.17478\n",
      "[67]\tvalidation_0-mlogloss:1.17346\n",
      "[68]\tvalidation_0-mlogloss:1.17197\n",
      "[69]\tvalidation_0-mlogloss:1.17072\n",
      "[70]\tvalidation_0-mlogloss:1.16953\n",
      "[71]\tvalidation_0-mlogloss:1.16845\n",
      "[72]\tvalidation_0-mlogloss:1.16709\n",
      "[73]\tvalidation_0-mlogloss:1.16578\n",
      "[74]\tvalidation_0-mlogloss:1.16472\n",
      "[75]\tvalidation_0-mlogloss:1.16363\n",
      "[76]\tvalidation_0-mlogloss:1.16240\n",
      "[77]\tvalidation_0-mlogloss:1.16141\n",
      "[78]\tvalidation_0-mlogloss:1.16033\n",
      "[79]\tvalidation_0-mlogloss:1.15941\n",
      "[80]\tvalidation_0-mlogloss:1.15834\n",
      "[81]\tvalidation_0-mlogloss:1.15736\n",
      "[82]\tvalidation_0-mlogloss:1.15626\n",
      "[83]\tvalidation_0-mlogloss:1.15541\n",
      "[84]\tvalidation_0-mlogloss:1.15456\n",
      "[85]\tvalidation_0-mlogloss:1.15362\n",
      "[86]\tvalidation_0-mlogloss:1.15283\n",
      "[87]\tvalidation_0-mlogloss:1.15199\n",
      "[88]\tvalidation_0-mlogloss:1.15120\n",
      "[89]\tvalidation_0-mlogloss:1.15024\n",
      "[90]\tvalidation_0-mlogloss:1.14939\n",
      "[91]\tvalidation_0-mlogloss:1.14859\n",
      "[92]\tvalidation_0-mlogloss:1.14797\n",
      "[93]\tvalidation_0-mlogloss:1.14740\n",
      "[94]\tvalidation_0-mlogloss:1.14668\n",
      "[95]\tvalidation_0-mlogloss:1.14594\n",
      "[96]\tvalidation_0-mlogloss:1.14522\n",
      "[97]\tvalidation_0-mlogloss:1.14468\n",
      "[98]\tvalidation_0-mlogloss:1.14392\n",
      "[99]\tvalidation_0-mlogloss:1.14319\n"
     ]
    }
   ],
   "source": [
    "# # code example\n",
    "# model1_name = \"SVM\" # LGBM/XGB/RF/CatBoost/FCLGBM/SVM\n",
    "# drop_colunm = [\"target\", \"ID\"]\n",
    "# target_colunm = \"target\"\n",
    "# model1 = prepare_model(model1_name, drop_colunm, target_colunm)\n",
    "model_name = \"SVM_RF_LGBM_ensemble\"\n",
    "\n",
    "model1_name = \"SVM\" # LGBM/XGB/RF/CatBoost/FCLGBM/SVM\n",
    "drop_colunm = [\"target\", \"ID\"]\n",
    "target_colunm = \"target\"\n",
    "model1 = prepare_model(model1_name, drop_colunm, target_colunm)\n",
    "\n",
    "model2_name = \"RF\" # LGBM/XGB/RF/CatBoost/FCLGBM/SVM\n",
    "drop_colunm = [\"target\", \"ID\"]\n",
    "target_colunm = \"target\"\n",
    "model2 = prepare_model(model2_name, drop_colunm, target_colunm)\n",
    "\n",
    "model3_name = \"CatBoost\" # LGBM/XGB/RF/CatBoost/FCLGBM/SVM\n",
    "drop_colunm = [\"target\", \"ID\"]\n",
    "target_colunm = \"target\"\n",
    "model3 = prepare_model(model3_name, drop_colunm, target_colunm)\n",
    "\n",
    "model4_name = \"XGB\" # LGBM/XGB/RF/CatBoost/FCLGBM/SVM\n",
    "drop_colunm = [\"target\", \"ID\"]\n",
    "target_colunm = \"target\"\n",
    "model4 = prepare_model(model4_name, drop_colunm, target_colunm)\n"
   ]
  },
  {
   "cell_type": "markdown",
   "metadata": {},
   "source": [
    "### Hard Voting"
   ]
  },
  {
   "cell_type": "code",
   "execution_count": 9,
   "metadata": {},
   "outputs": [
    {
     "name": "stdout",
     "output_type": "stream",
     "text": [
      "0:\ttotal: 154ms\tremaining: 2m 33s\n",
      "100:\ttotal: 9.62s\tremaining: 1m 25s\n",
      "200:\ttotal: 19s\tremaining: 1m 15s\n",
      "300:\ttotal: 28.4s\tremaining: 1m 5s\n",
      "400:\ttotal: 37.9s\tremaining: 56.6s\n",
      "500:\ttotal: 47.4s\tremaining: 47.2s\n",
      "600:\ttotal: 56.9s\tremaining: 37.8s\n",
      "700:\ttotal: 1m 6s\tremaining: 28.3s\n",
      "800:\ttotal: 1m 15s\tremaining: 18.9s\n",
      "900:\ttotal: 1m 25s\tremaining: 9.39s\n",
      "999:\ttotal: 1m 34s\tremaining: 0us\n"
     ]
    },
    {
     "ename": "ValueError",
     "evalue": "setting an array element with a sequence. The requested array has an inhomogeneous shape after 2 dimensions. The detected shape was (4, 1752) + inhomogeneous part.",
     "output_type": "error",
     "traceback": [
      "\u001b[0;31m---------------------------------------------------------------------------\u001b[0m",
      "\u001b[0;31mValueError\u001b[0m                                Traceback (most recent call last)",
      "Cell \u001b[0;32mIn[9], line 9\u001b[0m\n\u001b[1;32m      7\u001b[0m voting_model \u001b[38;5;241m=\u001b[39m VotingClassifier(estimators\u001b[38;5;241m=\u001b[39m[(\u001b[38;5;124m'\u001b[39m\u001b[38;5;124mSVM\u001b[39m\u001b[38;5;124m'\u001b[39m, model1), (\u001b[38;5;124m'\u001b[39m\u001b[38;5;124mRF\u001b[39m\u001b[38;5;124m'\u001b[39m, model2), (\u001b[38;5;124m'\u001b[39m\u001b[38;5;124mCatBoost\u001b[39m\u001b[38;5;124m'\u001b[39m, model3), (\u001b[38;5;124m'\u001b[39m\u001b[38;5;124mXGB\u001b[39m\u001b[38;5;124m'\u001b[39m, model4)], voting\u001b[38;5;241m=\u001b[39m\u001b[38;5;124m'\u001b[39m\u001b[38;5;124mhard\u001b[39m\u001b[38;5;124m'\u001b[39m)\n\u001b[1;32m      8\u001b[0m voting_model\u001b[38;5;241m.\u001b[39mfit(x_train, y_train)\n\u001b[0;32m----> 9\u001b[0m y_valid_pred_class \u001b[38;5;241m=\u001b[39m \u001b[43mvoting_model\u001b[49m\u001b[38;5;241;43m.\u001b[39;49m\u001b[43mpredict\u001b[49m\u001b[43m(\u001b[49m\u001b[43mx_valid\u001b[49m\u001b[43m)\u001b[49m\n\u001b[1;32m     11\u001b[0m \u001b[38;5;66;03m# score check\u001b[39;00m\n\u001b[1;32m     12\u001b[0m accuracy \u001b[38;5;241m=\u001b[39m accuracy_score(y_valid, y_valid_pred_class)\n",
      "File \u001b[0;32m~/.venv/lib/python3.10/site-packages/sklearn/ensemble/_voting.py:443\u001b[0m, in \u001b[0;36mVotingClassifier.predict\u001b[0;34m(self, X)\u001b[0m\n\u001b[1;32m    440\u001b[0m     maj \u001b[38;5;241m=\u001b[39m np\u001b[38;5;241m.\u001b[39margmax(\u001b[38;5;28mself\u001b[39m\u001b[38;5;241m.\u001b[39mpredict_proba(X), axis\u001b[38;5;241m=\u001b[39m\u001b[38;5;241m1\u001b[39m)\n\u001b[1;32m    442\u001b[0m \u001b[38;5;28;01melse\u001b[39;00m:  \u001b[38;5;66;03m# 'hard' voting\u001b[39;00m\n\u001b[0;32m--> 443\u001b[0m     predictions \u001b[38;5;241m=\u001b[39m \u001b[38;5;28;43mself\u001b[39;49m\u001b[38;5;241;43m.\u001b[39;49m\u001b[43m_predict\u001b[49m\u001b[43m(\u001b[49m\u001b[43mX\u001b[49m\u001b[43m)\u001b[49m\n\u001b[1;32m    444\u001b[0m     maj \u001b[38;5;241m=\u001b[39m np\u001b[38;5;241m.\u001b[39mapply_along_axis(\n\u001b[1;32m    445\u001b[0m         \u001b[38;5;28;01mlambda\u001b[39;00m x: np\u001b[38;5;241m.\u001b[39margmax(np\u001b[38;5;241m.\u001b[39mbincount(x, weights\u001b[38;5;241m=\u001b[39m\u001b[38;5;28mself\u001b[39m\u001b[38;5;241m.\u001b[39m_weights_not_none)),\n\u001b[1;32m    446\u001b[0m         axis\u001b[38;5;241m=\u001b[39m\u001b[38;5;241m1\u001b[39m,\n\u001b[1;32m    447\u001b[0m         arr\u001b[38;5;241m=\u001b[39mpredictions,\n\u001b[1;32m    448\u001b[0m     )\n\u001b[1;32m    450\u001b[0m maj \u001b[38;5;241m=\u001b[39m \u001b[38;5;28mself\u001b[39m\u001b[38;5;241m.\u001b[39mle_\u001b[38;5;241m.\u001b[39minverse_transform(maj)\n",
      "File \u001b[0;32m~/.venv/lib/python3.10/site-packages/sklearn/ensemble/_voting.py:80\u001b[0m, in \u001b[0;36m_BaseVoting._predict\u001b[0;34m(self, X)\u001b[0m\n\u001b[1;32m     78\u001b[0m \u001b[38;5;28;01mdef\u001b[39;00m \u001b[38;5;21m_predict\u001b[39m(\u001b[38;5;28mself\u001b[39m, X):\n\u001b[1;32m     79\u001b[0m \u001b[38;5;250m    \u001b[39m\u001b[38;5;124;03m\"\"\"Collect results from clf.predict calls.\"\"\"\u001b[39;00m\n\u001b[0;32m---> 80\u001b[0m     \u001b[38;5;28;01mreturn\u001b[39;00m \u001b[43mnp\u001b[49m\u001b[38;5;241;43m.\u001b[39;49m\u001b[43masarray\u001b[49m\u001b[43m(\u001b[49m\u001b[43m[\u001b[49m\u001b[43mest\u001b[49m\u001b[38;5;241;43m.\u001b[39;49m\u001b[43mpredict\u001b[49m\u001b[43m(\u001b[49m\u001b[43mX\u001b[49m\u001b[43m)\u001b[49m\u001b[43m \u001b[49m\u001b[38;5;28;43;01mfor\u001b[39;49;00m\u001b[43m \u001b[49m\u001b[43mest\u001b[49m\u001b[43m \u001b[49m\u001b[38;5;129;43;01min\u001b[39;49;00m\u001b[43m \u001b[49m\u001b[38;5;28;43mself\u001b[39;49m\u001b[38;5;241;43m.\u001b[39;49m\u001b[43mestimators_\u001b[49m\u001b[43m]\u001b[49m\u001b[43m)\u001b[49m\u001b[38;5;241m.\u001b[39mT\n",
      "\u001b[0;31mValueError\u001b[0m: setting an array element with a sequence. The requested array has an inhomogeneous shape after 2 dimensions. The detected shape was (4, 1752) + inhomogeneous part."
     ]
    }
   ],
   "source": [
    "from sklearn.ensemble import VotingClassifier\n",
    "from sklearn.metrics import accuracy_score, roc_auc_score\n",
    "\n",
    "x_train, x_valid, y_train, y_valid = data_split(split_type, train_df, drop_colunm, target_colunm)\n",
    "\n",
    "# 하드 보팅\n",
    "voting_model = VotingClassifier(estimators=[('SVM', model1), ('RF', model2), ('CatBoost', model3), ('XGB', model4)], voting='hard')\n",
    "voting_model.fit(x_train, y_train)\n",
    "y_valid_pred_class = voting_model.predict(x_valid)\n",
    "\n",
    "# score check\n",
    "accuracy = accuracy_score(y_valid, y_valid_pred_class)\n",
    "auroc = 0.0"
   ]
  },
  {
   "cell_type": "code",
   "execution_count": 10,
   "metadata": {},
   "outputs": [],
   "source": [
    "y_test_pred_class = voting_model.predict(test_df.drop(drop_colunm, axis = 1))\n",
    "submission_df = submission_df.assign(target = y_test_pred_class)\n",
    "submission_df.to_csv(model_name+\"_hard.csv\", index=False)\n",
    "\n",
    "date = (datetime.now()+ timedelta(hours=9)).strftime('%Y-%m-%d %H:%M:%S')\n",
    "f = open('../result.csv', 'a', newline='')\n",
    "wr = csv.writer(f)\n",
    "wr.writerow([date, accuracy, auroc, dataset_name, model_name, \"\", split_type, \"Hard_Voting\", 0])\n",
    "f.close()"
   ]
  },
  {
   "cell_type": "markdown",
   "metadata": {},
   "source": [
    "### Soft Voting"
   ]
  },
  {
   "cell_type": "code",
   "execution_count": 13,
   "metadata": {},
   "outputs": [
    {
     "name": "stdout",
     "output_type": "stream",
     "text": [
      "0:\ttotal: 154ms\tremaining: 2m 33s\n",
      "100:\ttotal: 9.59s\tremaining: 1m 25s\n",
      "200:\ttotal: 19s\tremaining: 1m 15s\n",
      "300:\ttotal: 28.4s\tremaining: 1m 6s\n",
      "400:\ttotal: 37.9s\tremaining: 56.6s\n",
      "500:\ttotal: 47.5s\tremaining: 47.3s\n",
      "600:\ttotal: 57.2s\tremaining: 38s\n",
      "700:\ttotal: 1m 6s\tremaining: 28.5s\n",
      "800:\ttotal: 1m 16s\tremaining: 19s\n",
      "900:\ttotal: 1m 26s\tremaining: 9.47s\n",
      "999:\ttotal: 1m 35s\tremaining: 0us\n"
     ]
    }
   ],
   "source": [
    "from sklearn.ensemble import VotingClassifier\n",
    "from sklearn.metrics import accuracy_score, roc_auc_score\n",
    "\n",
    "x_train, x_valid, y_train, y_valid = data_split(split_type, train_df, drop_colunm, target_colunm)\n",
    "\n",
    "# 소프트 보팅\n",
    "voting_model_soft = VotingClassifier(estimators=[('SVM', model1), ('RF', model2), ('CatBoost', model3), ('XGB', model4)], voting='soft')\n",
    "voting_model_soft.fit(x_train, y_train)\n",
    "y_valid_pred_class_soft = voting_model_soft.predict(x_valid)\n",
    "y_valid_pred_soft = voting_model_soft.predict_proba(x_valid)\n",
    "\n",
    "# score check\n",
    "accuracy = accuracy_score(y_valid, y_valid_pred_class_soft)\n",
    "try:\n",
    "    auroc = roc_auc_score(y_valid, y_valid_pred_soft, multi_class=\"ovr\")\n",
    "except ValueError as e:\n",
    "    print(\"Error calculating AUC:\", e)\n",
    "    auroc = 0.0"
   ]
  },
  {
   "cell_type": "code",
   "execution_count": 15,
   "metadata": {},
   "outputs": [],
   "source": [
    "y_test_pred_class = voting_model_soft.predict(test_df.drop(drop_colunm, axis = 1))\n",
    "submission_df = submission_df.assign(target = y_test_pred_class)\n",
    "submission_df.to_csv(model_name+\"_RFSVMXGBCB_soft.csv\", index=False)\n",
    "\n",
    "date = (datetime.now()+ timedelta(hours=9)).strftime('%Y-%m-%d %H:%M:%S')\n",
    "f = open('../result.csv', 'a', newline='')\n",
    "wr = csv.writer(f)\n",
    "wr.writerow([date, accuracy, auroc, dataset_name, model_name, \"\", split_type, \"Soft_Voting\", 0])\n",
    "f.close()"
   ]
  }
 ],
 "metadata": {
  "kernelspec": {
   "display_name": ".venv",
   "language": "python",
   "name": "python3"
  },
  "language_info": {
   "codemirror_mode": {
    "name": "ipython",
    "version": 3
   },
   "file_extension": ".py",
   "mimetype": "text/x-python",
   "name": "python",
   "nbconvert_exporter": "python",
   "pygments_lexer": "ipython3",
   "version": "3.11.9"
  }
 },
 "nbformat": 4,
 "nbformat_minor": 2
}
