{
 "cells": [
  {
   "cell_type": "code",
   "execution_count": 22,
   "metadata": {},
   "outputs": [],
   "source": [
    "import numpy as np\n",
    "import pandas as pd\n",
    "from sklearn.metrics import confusion_matrix\n",
    "from sklearn.model_selection import train_test_split\n",
    "from sklearn.metrics import log_loss, roc_auc_score, roc_curve\n",
    "\n",
    "import sys, os\n",
    "root_dir = os.path.abspath(os.path.join(os.getcwd(), '..'))\n",
    "sys.path.append(root_dir)\n",
    "from dataloader.data_loader import data_loader  # 경로를 dataloader 폴더 기준으로 지정\n",
    "from model.train import train_model, test, final_train_model"
   ]
  },
  {
   "cell_type": "markdown",
   "metadata": {},
   "source": [
    "# Data Load"
   ]
  },
  {
   "cell_type": "code",
   "execution_count": 46,
   "metadata": {},
   "outputs": [],
   "source": [
    "df_select_ma_shift = pd.read_csv('../data/train_yh.csv')"
   ]
  },
  {
   "cell_type": "markdown",
   "metadata": {},
   "source": [
    "# Model Training"
   ]
  },
  {
   "cell_type": "markdown",
   "metadata": {},
   "source": [
    "## 상승,하락 예측\n",
    "- 상승,하락 예측 prob을 새로운 변수로 활용"
   ]
  },
  {
   "cell_type": "markdown",
   "metadata": {},
   "source": [
    "### 0. train valid split"
   ]
  },
  {
   "cell_type": "code",
   "execution_count": 47,
   "metadata": {},
   "outputs": [],
   "source": [
    "# 타겟 변수 생성 (예: 4개 클래스로 분류)\n",
    "df_select_ma_shift['target_direction'] = np.where(df_select_ma_shift['target'] >= 2, 1, 0)"
   ]
  },
  {
   "cell_type": "code",
   "execution_count": 48,
   "metadata": {},
   "outputs": [],
   "source": [
    "train_df = df_select_ma_shift[df_select_ma_shift._type == 'train'].drop(columns = '_type')\n",
    "test_df = df_select_ma_shift[df_select_ma_shift._type == 'test'].drop(columns = '_type')"
   ]
  },
  {
   "cell_type": "code",
   "execution_count": 49,
   "metadata": {},
   "outputs": [],
   "source": [
    "drop_colunm = [\"target\", \"ID\", \"target_direction\"]\n",
    "target_colunm = 'target_direction'\n",
    "x_train_random, x_valid_random, y_train_random, y_valid_random = data_split(\"random\", train_df, drop_colunm, target_colunm) # random split\n",
    "x_train_ts, x_valid_ts, y_train_ts, y_valid_ts = data_split(\"time\", train_df, drop_colunm, target_colunm) # time series split"
   ]
  },
  {
   "cell_type": "markdown",
   "metadata": {},
   "source": [
    "### 1. XGBoost\n",
    "- random_accuracy = 0.5199\n",
    "- ts_accuracy = 0.5403"
   ]
  },
  {
   "cell_type": "code",
   "execution_count": 52,
   "metadata": {},
   "outputs": [],
   "source": [
    "import xgboost as xgb\n",
    "# XGBoost params\n",
    "xgb_params = {\n",
    "    \"objective\": \"binary:logistic\",\n",
    "    \"max_depth\": 6,\n",
    "    \"learning_rate\": 0.02,\n",
    "    \"n_estimators\": 100,\n",
    "    \"random_state\": 42,\n",
    "    'verbosity': 0\n",
    "}"
   ]
  },
  {
   "cell_type": "code",
   "execution_count": 53,
   "metadata": {},
   "outputs": [
    {
     "name": "stdout",
     "output_type": "stream",
     "text": [
      "[0]\tvalidation_0-logloss:0.69258\n",
      "[1]\tvalidation_0-logloss:0.69227\n",
      "[2]\tvalidation_0-logloss:0.69195\n",
      "[3]\tvalidation_0-logloss:0.69178\n",
      "[4]\tvalidation_0-logloss:0.69140\n",
      "[5]\tvalidation_0-logloss:0.69130\n",
      "[6]\tvalidation_0-logloss:0.69120\n",
      "[7]\tvalidation_0-logloss:0.69093\n",
      "[8]\tvalidation_0-logloss:0.69076\n",
      "[9]\tvalidation_0-logloss:0.69059\n",
      "[10]\tvalidation_0-logloss:0.69051\n",
      "[11]\tvalidation_0-logloss:0.69036\n",
      "[12]\tvalidation_0-logloss:0.69006\n",
      "[13]\tvalidation_0-logloss:0.68994\n",
      "[14]\tvalidation_0-logloss:0.68992\n",
      "[15]\tvalidation_0-logloss:0.68954\n",
      "[16]\tvalidation_0-logloss:0.68952\n",
      "[17]\tvalidation_0-logloss:0.68961\n",
      "[18]\tvalidation_0-logloss:0.68939\n",
      "[19]\tvalidation_0-logloss:0.68904\n",
      "[20]\tvalidation_0-logloss:0.68933\n",
      "[21]\tvalidation_0-logloss:0.68930\n",
      "[22]\tvalidation_0-logloss:0.68944\n",
      "[23]\tvalidation_0-logloss:0.68945\n",
      "[24]\tvalidation_0-logloss:0.68957\n",
      "[25]\tvalidation_0-logloss:0.68989\n",
      "[26]\tvalidation_0-logloss:0.69009\n",
      "[27]\tvalidation_0-logloss:0.69015\n",
      "[28]\tvalidation_0-logloss:0.69033\n",
      "[29]\tvalidation_0-logloss:0.69054\n",
      "[30]\tvalidation_0-logloss:0.69059\n",
      "[31]\tvalidation_0-logloss:0.69072\n",
      "[32]\tvalidation_0-logloss:0.69070\n",
      "[33]\tvalidation_0-logloss:0.69066\n",
      "[34]\tvalidation_0-logloss:0.69090\n",
      "[35]\tvalidation_0-logloss:0.69099\n",
      "[36]\tvalidation_0-logloss:0.69063\n",
      "[37]\tvalidation_0-logloss:0.69073\n",
      "[38]\tvalidation_0-logloss:0.69075\n",
      "[39]\tvalidation_0-logloss:0.69065\n",
      "[40]\tvalidation_0-logloss:0.69052\n",
      "[41]\tvalidation_0-logloss:0.69066\n",
      "[42]\tvalidation_0-logloss:0.69075\n",
      "[43]\tvalidation_0-logloss:0.69090\n",
      "[44]\tvalidation_0-logloss:0.69108\n",
      "[45]\tvalidation_0-logloss:0.69111\n",
      "[46]\tvalidation_0-logloss:0.69118\n",
      "[47]\tvalidation_0-logloss:0.69093\n",
      "[48]\tvalidation_0-logloss:0.69113\n",
      "[49]\tvalidation_0-logloss:0.69089\n",
      "[50]\tvalidation_0-logloss:0.69070\n",
      "[51]\tvalidation_0-logloss:0.69054\n",
      "[52]\tvalidation_0-logloss:0.69072\n",
      "[53]\tvalidation_0-logloss:0.69083\n",
      "[54]\tvalidation_0-logloss:0.69058\n",
      "[55]\tvalidation_0-logloss:0.69085\n",
      "[56]\tvalidation_0-logloss:0.69087\n",
      "[57]\tvalidation_0-logloss:0.69096\n",
      "[58]\tvalidation_0-logloss:0.69124\n",
      "[59]\tvalidation_0-logloss:0.69119\n",
      "[60]\tvalidation_0-logloss:0.69142\n",
      "[61]\tvalidation_0-logloss:0.69155\n",
      "[62]\tvalidation_0-logloss:0.69171\n",
      "[63]\tvalidation_0-logloss:0.69179\n",
      "[64]\tvalidation_0-logloss:0.69197\n",
      "[65]\tvalidation_0-logloss:0.69207\n",
      "[66]\tvalidation_0-logloss:0.69231\n",
      "[67]\tvalidation_0-logloss:0.69237\n",
      "[68]\tvalidation_0-logloss:0.69258\n",
      "[69]\tvalidation_0-logloss:0.69274\n",
      "[70]\tvalidation_0-logloss:0.69271\n",
      "[71]\tvalidation_0-logloss:0.69294\n",
      "[72]\tvalidation_0-logloss:0.69291\n",
      "[73]\tvalidation_0-logloss:0.69299\n",
      "[74]\tvalidation_0-logloss:0.69303\n",
      "[75]\tvalidation_0-logloss:0.69312\n",
      "[76]\tvalidation_0-logloss:0.69317\n",
      "[77]\tvalidation_0-logloss:0.69332\n",
      "[78]\tvalidation_0-logloss:0.69352\n",
      "[79]\tvalidation_0-logloss:0.69327\n",
      "[80]\tvalidation_0-logloss:0.69324\n",
      "[81]\tvalidation_0-logloss:0.69327\n",
      "[82]\tvalidation_0-logloss:0.69339\n",
      "[83]\tvalidation_0-logloss:0.69343\n",
      "[84]\tvalidation_0-logloss:0.69356\n",
      "[85]\tvalidation_0-logloss:0.69362\n",
      "[86]\tvalidation_0-logloss:0.69363\n",
      "[87]\tvalidation_0-logloss:0.69371\n",
      "[88]\tvalidation_0-logloss:0.69395\n",
      "[89]\tvalidation_0-logloss:0.69419\n",
      "[90]\tvalidation_0-logloss:0.69408\n",
      "[91]\tvalidation_0-logloss:0.69422\n",
      "[92]\tvalidation_0-logloss:0.69425\n",
      "[93]\tvalidation_0-logloss:0.69425\n",
      "[94]\tvalidation_0-logloss:0.69415\n",
      "[95]\tvalidation_0-logloss:0.69436\n",
      "[96]\tvalidation_0-logloss:0.69450\n",
      "[97]\tvalidation_0-logloss:0.69454\n",
      "[98]\tvalidation_0-logloss:0.69453\n",
      "[99]\tvalidation_0-logloss:0.69461\n",
      "Error calculating AUC: y should be a 1d array, got an array of shape (1752, 2) instead.\n",
      "[0]\tvalidation_0-logloss:0.69238\n",
      "[1]\tvalidation_0-logloss:0.69236\n",
      "[2]\tvalidation_0-logloss:0.69228\n",
      "[3]\tvalidation_0-logloss:0.69199\n",
      "[4]\tvalidation_0-logloss:0.69189\n",
      "[5]\tvalidation_0-logloss:0.69185\n",
      "[6]\tvalidation_0-logloss:0.69173\n",
      "[7]\tvalidation_0-logloss:0.69158\n",
      "[8]\tvalidation_0-logloss:0.69140\n",
      "[9]\tvalidation_0-logloss:0.69119\n",
      "[10]\tvalidation_0-logloss:0.69095\n",
      "[11]\tvalidation_0-logloss:0.69070\n",
      "[12]\tvalidation_0-logloss:0.69044\n",
      "[13]\tvalidation_0-logloss:0.69019\n",
      "[14]\tvalidation_0-logloss:0.69017\n",
      "[15]\tvalidation_0-logloss:0.68995\n",
      "[16]\tvalidation_0-logloss:0.68991\n",
      "[17]\tvalidation_0-logloss:0.68994\n",
      "[18]\tvalidation_0-logloss:0.68959\n",
      "[19]\tvalidation_0-logloss:0.68951\n",
      "[20]\tvalidation_0-logloss:0.68937\n",
      "[21]\tvalidation_0-logloss:0.68958\n",
      "[22]\tvalidation_0-logloss:0.68961\n",
      "[23]\tvalidation_0-logloss:0.68946\n",
      "[24]\tvalidation_0-logloss:0.68951\n",
      "[25]\tvalidation_0-logloss:0.68958\n",
      "[26]\tvalidation_0-logloss:0.68936\n",
      "[27]\tvalidation_0-logloss:0.68950\n",
      "[28]\tvalidation_0-logloss:0.68963\n",
      "[29]\tvalidation_0-logloss:0.68980\n",
      "[30]\tvalidation_0-logloss:0.68972\n",
      "[31]\tvalidation_0-logloss:0.68942\n",
      "[32]\tvalidation_0-logloss:0.68927\n",
      "[33]\tvalidation_0-logloss:0.68920\n",
      "[34]\tvalidation_0-logloss:0.68906\n",
      "[35]\tvalidation_0-logloss:0.68899\n",
      "[36]\tvalidation_0-logloss:0.68871\n",
      "[37]\tvalidation_0-logloss:0.68864\n",
      "[38]\tvalidation_0-logloss:0.68870\n",
      "[39]\tvalidation_0-logloss:0.68811\n",
      "[40]\tvalidation_0-logloss:0.68810\n",
      "[41]\tvalidation_0-logloss:0.68840\n",
      "[42]\tvalidation_0-logloss:0.68840\n",
      "[43]\tvalidation_0-logloss:0.68851\n",
      "[44]\tvalidation_0-logloss:0.68880\n",
      "[45]\tvalidation_0-logloss:0.68877\n",
      "[46]\tvalidation_0-logloss:0.68860\n",
      "[47]\tvalidation_0-logloss:0.68870\n",
      "[48]\tvalidation_0-logloss:0.68867\n",
      "[49]\tvalidation_0-logloss:0.68882\n",
      "[50]\tvalidation_0-logloss:0.68895\n",
      "[51]\tvalidation_0-logloss:0.68884\n",
      "[52]\tvalidation_0-logloss:0.68876\n",
      "[53]\tvalidation_0-logloss:0.68847\n",
      "[54]\tvalidation_0-logloss:0.68851\n",
      "[55]\tvalidation_0-logloss:0.68890\n",
      "[56]\tvalidation_0-logloss:0.68893\n",
      "[57]\tvalidation_0-logloss:0.68896\n",
      "[58]\tvalidation_0-logloss:0.68898\n",
      "[59]\tvalidation_0-logloss:0.68920\n",
      "[60]\tvalidation_0-logloss:0.68900\n",
      "[61]\tvalidation_0-logloss:0.68896\n",
      "[62]\tvalidation_0-logloss:0.68911\n",
      "[63]\tvalidation_0-logloss:0.68930\n",
      "[64]\tvalidation_0-logloss:0.68933\n",
      "[65]\tvalidation_0-logloss:0.68947\n",
      "[66]\tvalidation_0-logloss:0.68942\n",
      "[67]\tvalidation_0-logloss:0.68953\n",
      "[68]\tvalidation_0-logloss:0.69009\n",
      "[69]\tvalidation_0-logloss:0.69016\n",
      "[70]\tvalidation_0-logloss:0.69007\n",
      "[71]\tvalidation_0-logloss:0.68996\n",
      "[72]\tvalidation_0-logloss:0.69012\n",
      "[73]\tvalidation_0-logloss:0.69039\n",
      "[74]\tvalidation_0-logloss:0.69051\n",
      "[75]\tvalidation_0-logloss:0.69057\n",
      "[76]\tvalidation_0-logloss:0.69051\n",
      "[77]\tvalidation_0-logloss:0.69064\n",
      "[78]\tvalidation_0-logloss:0.69053\n",
      "[79]\tvalidation_0-logloss:0.69048\n",
      "[80]\tvalidation_0-logloss:0.69004\n",
      "[81]\tvalidation_0-logloss:0.69037\n",
      "[82]\tvalidation_0-logloss:0.69019\n",
      "[83]\tvalidation_0-logloss:0.69025\n",
      "[84]\tvalidation_0-logloss:0.69029\n",
      "[85]\tvalidation_0-logloss:0.69033\n",
      "[86]\tvalidation_0-logloss:0.69067\n",
      "[87]\tvalidation_0-logloss:0.69064\n",
      "[88]\tvalidation_0-logloss:0.69082\n",
      "[89]\tvalidation_0-logloss:0.69092\n",
      "[90]\tvalidation_0-logloss:0.69101\n",
      "[91]\tvalidation_0-logloss:0.69103\n",
      "[92]\tvalidation_0-logloss:0.69121\n",
      "[93]\tvalidation_0-logloss:0.69147\n",
      "[94]\tvalidation_0-logloss:0.69134\n",
      "[95]\tvalidation_0-logloss:0.69134\n",
      "[96]\tvalidation_0-logloss:0.69150\n",
      "[97]\tvalidation_0-logloss:0.69160\n",
      "[98]\tvalidation_0-logloss:0.69167\n",
      "[99]\tvalidation_0-logloss:0.69152\n",
      "Error calculating AUC: y should be a 1d array, got an array of shape (1464, 2) instead.\n"
     ]
    }
   ],
   "source": [
    "# random split version\n",
    "train_data, valid_data = _Dataset('XGB', x_train_random, x_valid_random, y_train_random, y_valid_random)\n",
    "xgb_random, y_pred_random, accuracy_random, auroc_random = train_model('XGB', xgb_params, x_train_random, x_valid_random, y_train_random, y_valid_random, train_data, valid_data)\n",
    "\n",
    "# time series split version\n",
    "train_data, valid_data = _Dataset('XGB', x_train_ts, x_valid_ts, y_train_ts, y_valid_ts)\n",
    "xgb_ts, y_pred_ts, accuracy_ts, auroc_ts = train_model('XGB', xgb_params,x_train_ts, x_valid_ts, y_train_ts, y_valid_ts, train_data, valid_data)"
   ]
  },
  {
   "cell_type": "code",
   "execution_count": 54,
   "metadata": {},
   "outputs": [
    {
     "name": "stdout",
     "output_type": "stream",
     "text": [
      "random split - acc: 0.5199771689497716\n",
      "ts split - acc: 0.5403005464480874\n"
     ]
    }
   ],
   "source": [
    "print(f\"random split - acc: {accuracy_random}\")\n",
    "print(f\"ts split - acc: {accuracy_ts}\")"
   ]
  },
  {
   "cell_type": "markdown",
   "metadata": {},
   "source": [
    "### 2. LGBM\n",
    "- random_accuracy = 0.5331\n",
    "- ts_accuracy = 0.5389"
   ]
  },
  {
   "cell_type": "code",
   "execution_count": 55,
   "metadata": {},
   "outputs": [],
   "source": [
    "# lgb params\n",
    "lgb_params = {\n",
    "        \"boosting_type\": \"gbdt\",\n",
    "        \"objective\": \"binary\",\n",
    "        \"metric\": \"binary_logloss\",\n",
    "        \"num_leaves\": 30,\n",
    "        \"learning_rate\": 0.02,\n",
    "        \"n_estimators\": 30,\n",
    "        \"random_state\": 42,\n",
    "        'verbose': -1\n",
    "    }"
   ]
  },
  {
   "cell_type": "code",
   "execution_count": 56,
   "metadata": {},
   "outputs": [
    {
     "name": "stdout",
     "output_type": "stream",
     "text": [
      "Error calculating AUC: y should be a 1d array, got an array of shape (1752, 2) instead.\n",
      "Error calculating AUC: y should be a 1d array, got an array of shape (1464, 2) instead.\n"
     ]
    }
   ],
   "source": [
    "# random split version\n",
    "train_data, valid_data = _Dataset('LGBM', x_train_random, x_valid_random, y_train_random, y_valid_random)\n",
    "lgb_random, y_pred_random, accuracy_random, auroc_random = train_model('LGBM', lgb_params, x_train_random, x_valid_random, y_train_random, y_valid_random, train_data, valid_data)\n",
    "\n",
    "# time series split version\n",
    "train_data, valid_data = _Dataset('LGBM', x_train_ts, x_valid_ts, y_train_ts, y_valid_ts)\n",
    "lgb_ts, y_pred_ts, accuracy_ts, auroc_ts = train_model('LGBM', lgb_params,x_train_ts, x_valid_ts, y_train_ts, y_valid_ts, train_data, valid_data)"
   ]
  },
  {
   "cell_type": "code",
   "execution_count": 57,
   "metadata": {},
   "outputs": [
    {
     "name": "stdout",
     "output_type": "stream",
     "text": [
      "random split - acc: 0.5331050228310502\n",
      "ts split - acc: 0.5389344262295082\n"
     ]
    }
   ],
   "source": [
    "print(f\"random split - acc: {accuracy_random}\")\n",
    "print(f\"ts split - acc: {accuracy_ts}\")"
   ]
  },
  {
   "cell_type": "markdown",
   "metadata": {},
   "source": [
    "### 3. Catboost (최종)\n",
    "- random_accuracy = 0.5319\n",
    "- ts_accuracy = 0.5648"
   ]
  },
  {
   "cell_type": "code",
   "execution_count": 58,
   "metadata": {},
   "outputs": [],
   "source": [
    "# CatBoost params\n",
    "cat_params = {\n",
    "    'iterations': 200,\n",
    "    'learning_rate': 0.02,\n",
    "    'depth': 6,\n",
    "    'loss_function': 'Logloss',\n",
    "    'eval_metric': 'Logloss',\n",
    "    'random_seed': 42,\n",
    "    'verbose': 0\n",
    "}"
   ]
  },
  {
   "cell_type": "code",
   "execution_count": 59,
   "metadata": {},
   "outputs": [
    {
     "name": "stdout",
     "output_type": "stream",
     "text": [
      "Error calculating AUC: y should be a 1d array, got an array of shape (1752, 2) instead.\n",
      "Error calculating AUC: y should be a 1d array, got an array of shape (1464, 2) instead.\n"
     ]
    }
   ],
   "source": [
    "# random split version\n",
    "train_data, valid_data = _Dataset('CatBoost', x_train_random, x_valid_random, y_train_random, y_valid_random)\n",
    "cat_random, y_pred_random, accuracy_random, auroc_random = train_model('CatBoost', cat_params, x_train_random, x_valid_random, y_train_random, y_valid_random, train_data, valid_data)\n",
    "\n",
    "# time series split version\n",
    "train_data, valid_data = _Dataset('CatBoost', x_train_ts, x_valid_ts, y_train_ts, y_valid_ts)\n",
    "cat_ts, y_pred_ts, accuracy_ts, auroc_ts = train_model('CatBoost', cat_params,x_train_ts, x_valid_ts, y_train_ts, y_valid_ts, train_data, valid_data)"
   ]
  },
  {
   "cell_type": "code",
   "execution_count": 61,
   "metadata": {},
   "outputs": [
    {
     "name": "stdout",
     "output_type": "stream",
     "text": [
      "random split - acc: 0.5319634703196348\n",
      "ts split - acc: 0.5648907103825137\n"
     ]
    }
   ],
   "source": [
    "print(f\"random split - acc: {accuracy_random}\")\n",
    "print(f\"ts split - acc: {accuracy_ts}\")"
   ]
  },
  {
   "cell_type": "markdown",
   "metadata": {},
   "source": [
    "### dir_prob 변수 생성"
   ]
  },
  {
   "cell_type": "code",
   "execution_count": 62,
   "metadata": {},
   "outputs": [],
   "source": [
    "# random split 버전 \n",
    "dir_prob_train = cat_random.predict_proba(x_train_random)[:,1]\n",
    "dir_prob_valid = cat_random.predict_proba(x_valid_random)[:,1]\n",
    "dir_prob_random = np.concatenate((dir_prob_train,dir_prob_valid))"
   ]
  },
  {
   "cell_type": "code",
   "execution_count": 63,
   "metadata": {},
   "outputs": [],
   "source": [
    "# 테스트셋용 \n",
    "x_test_full = test_df.drop(columns = ['ID', 'target', 'target_direction'])\n",
    "dir_prob_random_test = cat_random.predict_proba(x_test_full)[:,1] # random 용"
   ]
  },
  {
   "cell_type": "code",
   "execution_count": 70,
   "metadata": {},
   "outputs": [],
   "source": [
    "# train_df['dir_prob_ts'] = dir_prob_ts\n",
    "train_df['dir_prob'] = dir_prob_random\n",
    "test_df['dir_prob'] = dir_prob_random_test"
   ]
  },
  {
   "cell_type": "markdown",
   "metadata": {},
   "source": [
    "## 최종 예측"
   ]
  },
  {
   "cell_type": "markdown",
   "metadata": {},
   "source": [
    "### 0. train valid split"
   ]
  },
  {
   "cell_type": "code",
   "execution_count": 71,
   "metadata": {},
   "outputs": [],
   "source": [
    "drop_colunm = [\"target\", \"ID\", \"target_direction\"]\n",
    "target_colunm = 'target'\n",
    "x_train_cv, x_valid_cv, y_train_cv, y_valid_cv = data_split(\"randomcv\", train_df, drop_colunm, target_colunm)"
   ]
  },
  {
   "cell_type": "markdown",
   "metadata": {},
   "source": [
    "### 1. LGBM\n",
    "- cv accuracy = 0.4296"
   ]
  },
  {
   "cell_type": "code",
   "execution_count": 82,
   "metadata": {},
   "outputs": [],
   "source": [
    "lgb_params = {\n",
    "    \"boosting_type\": \"gbdt\",\n",
    "    \"objective\": \"multiclass\",\n",
    "    \"metric\": \"multi_logloss\",\n",
    "    \"num_class\": 4,\n",
    "    \"num_leaves\": 97,\n",
    "    \"learning_rate\": 0.015732043600075817,\n",
    "    \"n_estimators\": 52,\n",
    "    \"random_state\": 42,\n",
    "    \"verbose\": 0,\n",
    "}"
   ]
  },
  {
   "cell_type": "code",
   "execution_count": 74,
   "metadata": {},
   "outputs": [
    {
     "name": "stderr",
     "output_type": "stream",
     "text": [
      "100%|██████████| 5/5 [02:50<00:00, 34.07s/it]\n"
     ]
    }
   ],
   "source": [
    "from tqdm import tqdm\n",
    "acc_lst_cat = []\n",
    "auroc_lst_cat = []\n",
    "for i in tqdm(range(5)):\n",
    "    x_train, x_valid, y_train, y_valid = x_train_cv[i], x_valid_cv[i], y_train_cv[i], y_valid_cv[i]\n",
    "    train_data, valid_data = _Dataset('LGBM', x_train, x_valid, y_train, y_valid)\n",
    "    catboost_model, y_valid_pred, accuracy, auroc = train_model('LGBM', lgb_params, x_train, x_valid, y_train, y_valid, train_data, valid_data)\n",
    "    acc_lst_cat.append(accuracy)\n",
    "    auroc_lst_cat.append(auroc)"
   ]
  },
  {
   "cell_type": "code",
   "execution_count": 75,
   "metadata": {},
   "outputs": [
    {
     "name": "stdout",
     "output_type": "stream",
     "text": [
      "- cv acc: 0.42968036529680365, auroc: 0.6142678576181666\n"
     ]
    }
   ],
   "source": [
    "print(f\"- cv acc: {np.mean(acc_lst_cat)}, auroc: {np.mean(auroc_lst_cat)}\")"
   ]
  },
  {
   "cell_type": "markdown",
   "metadata": {},
   "source": [
    "### 2. XGBoost (최종)\n",
    "- cv accuracy = 0.4496"
   ]
  },
  {
   "cell_type": "code",
   "execution_count": 76,
   "metadata": {},
   "outputs": [],
   "source": [
    "xgb_params = {\n",
    "        \"learning_rate\":0.03698033367974952,\n",
    "        \"max_depth\" : 3,\n",
    "        \"n_estimators\" : 50,\n",
    "        \"num_class\" : 4,\n",
    "        \"random_state\": 42,                          \n",
    "        \"verbosity\": 0,\n",
    "        \"objective\": \"multi:softprob\",                \n",
    "        \"num_class\": 4,  \n",
    "}"
   ]
  },
  {
   "cell_type": "code",
   "execution_count": 77,
   "metadata": {},
   "outputs": [
    {
     "name": "stderr",
     "output_type": "stream",
     "text": [
      "  0%|          | 0/5 [00:00<?, ?it/s]"
     ]
    },
    {
     "name": "stdout",
     "output_type": "stream",
     "text": [
      "[0]\tvalidation_0-mlogloss:1.37489\n",
      "[1]\tvalidation_0-mlogloss:1.36398\n",
      "[2]\tvalidation_0-mlogloss:1.35368\n",
      "[3]\tvalidation_0-mlogloss:1.34393\n",
      "[4]\tvalidation_0-mlogloss:1.33473\n",
      "[5]\tvalidation_0-mlogloss:1.32581\n",
      "[6]\tvalidation_0-mlogloss:1.31719\n",
      "[7]\tvalidation_0-mlogloss:1.30915\n",
      "[8]\tvalidation_0-mlogloss:1.30131\n",
      "[9]\tvalidation_0-mlogloss:1.29377\n",
      "[10]\tvalidation_0-mlogloss:1.28675\n",
      "[11]\tvalidation_0-mlogloss:1.28000\n",
      "[12]\tvalidation_0-mlogloss:1.27365\n",
      "[13]\tvalidation_0-mlogloss:1.26760\n",
      "[14]\tvalidation_0-mlogloss:1.26165\n",
      "[15]\tvalidation_0-mlogloss:1.25602\n",
      "[16]\tvalidation_0-mlogloss:1.25055\n",
      "[17]\tvalidation_0-mlogloss:1.24541\n",
      "[18]\tvalidation_0-mlogloss:1.24056\n",
      "[19]\tvalidation_0-mlogloss:1.23581\n",
      "[20]\tvalidation_0-mlogloss:1.23105\n",
      "[21]\tvalidation_0-mlogloss:1.22681\n",
      "[22]\tvalidation_0-mlogloss:1.22260\n",
      "[23]\tvalidation_0-mlogloss:1.21868\n",
      "[24]\tvalidation_0-mlogloss:1.21488\n",
      "[25]\tvalidation_0-mlogloss:1.21112\n",
      "[26]\tvalidation_0-mlogloss:1.20767\n",
      "[27]\tvalidation_0-mlogloss:1.20439\n",
      "[28]\tvalidation_0-mlogloss:1.20110\n",
      "[29]\tvalidation_0-mlogloss:1.19800\n",
      "[30]\tvalidation_0-mlogloss:1.19492\n",
      "[31]\tvalidation_0-mlogloss:1.19189\n",
      "[32]\tvalidation_0-mlogloss:1.18906\n",
      "[33]\tvalidation_0-mlogloss:1.18651\n",
      "[34]\tvalidation_0-mlogloss:1.18391\n",
      "[35]\tvalidation_0-mlogloss:1.18129\n",
      "[36]\tvalidation_0-mlogloss:1.17897\n",
      "[37]\tvalidation_0-mlogloss:1.17660\n",
      "[38]\tvalidation_0-mlogloss:1.17444\n",
      "[39]\tvalidation_0-mlogloss:1.17236\n",
      "[40]\tvalidation_0-mlogloss:1.17012\n",
      "[41]\tvalidation_0-mlogloss:1.16800\n",
      "[42]\tvalidation_0-mlogloss:1.16617\n",
      "[43]\tvalidation_0-mlogloss:1.16439\n",
      "[44]\tvalidation_0-mlogloss:1.16253\n",
      "[45]\tvalidation_0-mlogloss:1.16078\n",
      "[46]\tvalidation_0-mlogloss:1.15919\n",
      "[47]\tvalidation_0-mlogloss:1.15764\n",
      "[48]\tvalidation_0-mlogloss:1.15607\n",
      "[49]\tvalidation_0-mlogloss:1.15452\n"
     ]
    },
    {
     "name": "stderr",
     "output_type": "stream",
     "text": [
      " 20%|██        | 1/5 [00:14<00:56, 14.02s/it]"
     ]
    },
    {
     "name": "stdout",
     "output_type": "stream",
     "text": [
      "[0]\tvalidation_0-mlogloss:1.37460\n",
      "[1]\tvalidation_0-mlogloss:1.36371\n",
      "[2]\tvalidation_0-mlogloss:1.35322\n",
      "[3]\tvalidation_0-mlogloss:1.34329\n",
      "[4]\tvalidation_0-mlogloss:1.33375\n",
      "[5]\tvalidation_0-mlogloss:1.32485\n",
      "[6]\tvalidation_0-mlogloss:1.31618\n",
      "[7]\tvalidation_0-mlogloss:1.30787\n",
      "[8]\tvalidation_0-mlogloss:1.30004\n",
      "[9]\tvalidation_0-mlogloss:1.29250\n",
      "[10]\tvalidation_0-mlogloss:1.28528\n",
      "[11]\tvalidation_0-mlogloss:1.27838\n",
      "[12]\tvalidation_0-mlogloss:1.27197\n",
      "[13]\tvalidation_0-mlogloss:1.26564\n",
      "[14]\tvalidation_0-mlogloss:1.25951\n",
      "[15]\tvalidation_0-mlogloss:1.25371\n",
      "[16]\tvalidation_0-mlogloss:1.24813\n",
      "[17]\tvalidation_0-mlogloss:1.24287\n",
      "[18]\tvalidation_0-mlogloss:1.23789\n",
      "[19]\tvalidation_0-mlogloss:1.23304\n",
      "[20]\tvalidation_0-mlogloss:1.22837\n",
      "[21]\tvalidation_0-mlogloss:1.22383\n",
      "[22]\tvalidation_0-mlogloss:1.21952\n",
      "[23]\tvalidation_0-mlogloss:1.21542\n",
      "[24]\tvalidation_0-mlogloss:1.21159\n",
      "[25]\tvalidation_0-mlogloss:1.20769\n",
      "[26]\tvalidation_0-mlogloss:1.20404\n",
      "[27]\tvalidation_0-mlogloss:1.20040\n",
      "[28]\tvalidation_0-mlogloss:1.19717\n",
      "[29]\tvalidation_0-mlogloss:1.19391\n",
      "[30]\tvalidation_0-mlogloss:1.19069\n",
      "[31]\tvalidation_0-mlogloss:1.18776\n",
      "[32]\tvalidation_0-mlogloss:1.18480\n",
      "[33]\tvalidation_0-mlogloss:1.18196\n",
      "[34]\tvalidation_0-mlogloss:1.17928\n",
      "[35]\tvalidation_0-mlogloss:1.17663\n",
      "[36]\tvalidation_0-mlogloss:1.17426\n",
      "[37]\tvalidation_0-mlogloss:1.17206\n",
      "[38]\tvalidation_0-mlogloss:1.16982\n",
      "[39]\tvalidation_0-mlogloss:1.16765\n",
      "[40]\tvalidation_0-mlogloss:1.16558\n",
      "[41]\tvalidation_0-mlogloss:1.16359\n",
      "[42]\tvalidation_0-mlogloss:1.16163\n",
      "[43]\tvalidation_0-mlogloss:1.15984\n",
      "[44]\tvalidation_0-mlogloss:1.15809\n",
      "[45]\tvalidation_0-mlogloss:1.15636\n",
      "[46]\tvalidation_0-mlogloss:1.15465\n",
      "[47]\tvalidation_0-mlogloss:1.15299\n",
      "[48]\tvalidation_0-mlogloss:1.15147\n",
      "[49]\tvalidation_0-mlogloss:1.14993\n"
     ]
    },
    {
     "name": "stderr",
     "output_type": "stream",
     "text": [
      " 40%|████      | 2/5 [00:27<00:40, 13.43s/it]"
     ]
    },
    {
     "name": "stdout",
     "output_type": "stream",
     "text": [
      "[0]\tvalidation_0-mlogloss:1.37509\n",
      "[1]\tvalidation_0-mlogloss:1.36448\n",
      "[2]\tvalidation_0-mlogloss:1.35442\n",
      "[3]\tvalidation_0-mlogloss:1.34471\n",
      "[4]\tvalidation_0-mlogloss:1.33550\n",
      "[5]\tvalidation_0-mlogloss:1.32696\n",
      "[6]\tvalidation_0-mlogloss:1.31864\n",
      "[7]\tvalidation_0-mlogloss:1.31044\n",
      "[8]\tvalidation_0-mlogloss:1.30286\n",
      "[9]\tvalidation_0-mlogloss:1.29553\n",
      "[10]\tvalidation_0-mlogloss:1.28859\n",
      "[11]\tvalidation_0-mlogloss:1.28192\n",
      "[12]\tvalidation_0-mlogloss:1.27561\n",
      "[13]\tvalidation_0-mlogloss:1.26950\n",
      "[14]\tvalidation_0-mlogloss:1.26362\n",
      "[15]\tvalidation_0-mlogloss:1.25814\n",
      "[16]\tvalidation_0-mlogloss:1.25289\n",
      "[17]\tvalidation_0-mlogloss:1.24779\n",
      "[18]\tvalidation_0-mlogloss:1.24280\n",
      "[19]\tvalidation_0-mlogloss:1.23816\n",
      "[20]\tvalidation_0-mlogloss:1.23370\n",
      "[21]\tvalidation_0-mlogloss:1.22951\n",
      "[22]\tvalidation_0-mlogloss:1.22544\n",
      "[23]\tvalidation_0-mlogloss:1.22143\n",
      "[24]\tvalidation_0-mlogloss:1.21763\n",
      "[25]\tvalidation_0-mlogloss:1.21395\n",
      "[26]\tvalidation_0-mlogloss:1.21053\n",
      "[27]\tvalidation_0-mlogloss:1.20705\n",
      "[28]\tvalidation_0-mlogloss:1.20359\n",
      "[29]\tvalidation_0-mlogloss:1.20060\n",
      "[30]\tvalidation_0-mlogloss:1.19763\n",
      "[31]\tvalidation_0-mlogloss:1.19471\n",
      "[32]\tvalidation_0-mlogloss:1.19176\n",
      "[33]\tvalidation_0-mlogloss:1.18885\n",
      "[34]\tvalidation_0-mlogloss:1.18631\n",
      "[35]\tvalidation_0-mlogloss:1.18383\n",
      "[36]\tvalidation_0-mlogloss:1.18150\n",
      "[37]\tvalidation_0-mlogloss:1.17911\n",
      "[38]\tvalidation_0-mlogloss:1.17686\n",
      "[39]\tvalidation_0-mlogloss:1.17490\n",
      "[40]\tvalidation_0-mlogloss:1.17287\n",
      "[41]\tvalidation_0-mlogloss:1.17077\n",
      "[42]\tvalidation_0-mlogloss:1.16888\n",
      "[43]\tvalidation_0-mlogloss:1.16709\n",
      "[44]\tvalidation_0-mlogloss:1.16532\n",
      "[45]\tvalidation_0-mlogloss:1.16382\n",
      "[46]\tvalidation_0-mlogloss:1.16222\n",
      "[47]\tvalidation_0-mlogloss:1.16071\n",
      "[48]\tvalidation_0-mlogloss:1.15921\n",
      "[49]\tvalidation_0-mlogloss:1.15766\n"
     ]
    },
    {
     "name": "stderr",
     "output_type": "stream",
     "text": [
      " 60%|██████    | 3/5 [00:42<00:28, 14.19s/it]"
     ]
    },
    {
     "name": "stdout",
     "output_type": "stream",
     "text": [
      "[0]\tvalidation_0-mlogloss:1.37505\n",
      "[1]\tvalidation_0-mlogloss:1.36461\n",
      "[2]\tvalidation_0-mlogloss:1.35429\n",
      "[3]\tvalidation_0-mlogloss:1.34453\n",
      "[4]\tvalidation_0-mlogloss:1.33547\n",
      "[5]\tvalidation_0-mlogloss:1.32669\n",
      "[6]\tvalidation_0-mlogloss:1.31817\n",
      "[7]\tvalidation_0-mlogloss:1.31035\n",
      "[8]\tvalidation_0-mlogloss:1.30268\n",
      "[9]\tvalidation_0-mlogloss:1.29544\n",
      "[10]\tvalidation_0-mlogloss:1.28848\n",
      "[11]\tvalidation_0-mlogloss:1.28180\n",
      "[12]\tvalidation_0-mlogloss:1.27543\n",
      "[13]\tvalidation_0-mlogloss:1.26919\n",
      "[14]\tvalidation_0-mlogloss:1.26332\n",
      "[15]\tvalidation_0-mlogloss:1.25772\n",
      "[16]\tvalidation_0-mlogloss:1.25235\n",
      "[17]\tvalidation_0-mlogloss:1.24741\n",
      "[18]\tvalidation_0-mlogloss:1.24244\n",
      "[19]\tvalidation_0-mlogloss:1.23767\n",
      "[20]\tvalidation_0-mlogloss:1.23331\n",
      "[21]\tvalidation_0-mlogloss:1.22906\n",
      "[22]\tvalidation_0-mlogloss:1.22491\n",
      "[23]\tvalidation_0-mlogloss:1.22090\n",
      "[24]\tvalidation_0-mlogloss:1.21701\n",
      "[25]\tvalidation_0-mlogloss:1.21343\n",
      "[26]\tvalidation_0-mlogloss:1.20989\n",
      "[27]\tvalidation_0-mlogloss:1.20644\n",
      "[28]\tvalidation_0-mlogloss:1.20324\n",
      "[29]\tvalidation_0-mlogloss:1.20017\n",
      "[30]\tvalidation_0-mlogloss:1.19727\n",
      "[31]\tvalidation_0-mlogloss:1.19444\n",
      "[32]\tvalidation_0-mlogloss:1.19182\n",
      "[33]\tvalidation_0-mlogloss:1.18922\n",
      "[34]\tvalidation_0-mlogloss:1.18671\n",
      "[35]\tvalidation_0-mlogloss:1.18411\n",
      "[36]\tvalidation_0-mlogloss:1.18185\n",
      "[37]\tvalidation_0-mlogloss:1.17934\n",
      "[38]\tvalidation_0-mlogloss:1.17732\n",
      "[39]\tvalidation_0-mlogloss:1.17543\n",
      "[40]\tvalidation_0-mlogloss:1.17342\n",
      "[41]\tvalidation_0-mlogloss:1.17163\n",
      "[42]\tvalidation_0-mlogloss:1.16982\n",
      "[43]\tvalidation_0-mlogloss:1.16804\n",
      "[44]\tvalidation_0-mlogloss:1.16620\n",
      "[45]\tvalidation_0-mlogloss:1.16471\n",
      "[46]\tvalidation_0-mlogloss:1.16324\n",
      "[47]\tvalidation_0-mlogloss:1.16185\n",
      "[48]\tvalidation_0-mlogloss:1.16030\n",
      "[49]\tvalidation_0-mlogloss:1.15903\n"
     ]
    },
    {
     "name": "stderr",
     "output_type": "stream",
     "text": [
      " 80%|████████  | 4/5 [00:54<00:13, 13.47s/it]"
     ]
    },
    {
     "name": "stdout",
     "output_type": "stream",
     "text": [
      "[0]\tvalidation_0-mlogloss:1.37476\n",
      "[1]\tvalidation_0-mlogloss:1.36386\n",
      "[2]\tvalidation_0-mlogloss:1.35348\n",
      "[3]\tvalidation_0-mlogloss:1.34360\n",
      "[4]\tvalidation_0-mlogloss:1.33424\n",
      "[5]\tvalidation_0-mlogloss:1.32523\n",
      "[6]\tvalidation_0-mlogloss:1.31651\n",
      "[7]\tvalidation_0-mlogloss:1.30831\n",
      "[8]\tvalidation_0-mlogloss:1.30057\n",
      "[9]\tvalidation_0-mlogloss:1.29303\n",
      "[10]\tvalidation_0-mlogloss:1.28579\n",
      "[11]\tvalidation_0-mlogloss:1.27907\n",
      "[12]\tvalidation_0-mlogloss:1.27237\n",
      "[13]\tvalidation_0-mlogloss:1.26606\n",
      "[14]\tvalidation_0-mlogloss:1.26008\n",
      "[15]\tvalidation_0-mlogloss:1.25424\n",
      "[16]\tvalidation_0-mlogloss:1.24873\n",
      "[17]\tvalidation_0-mlogloss:1.24349\n",
      "[18]\tvalidation_0-mlogloss:1.23846\n",
      "[19]\tvalidation_0-mlogloss:1.23368\n",
      "[20]\tvalidation_0-mlogloss:1.22896\n",
      "[21]\tvalidation_0-mlogloss:1.22457\n",
      "[22]\tvalidation_0-mlogloss:1.22037\n",
      "[23]\tvalidation_0-mlogloss:1.21613\n",
      "[24]\tvalidation_0-mlogloss:1.21221\n",
      "[25]\tvalidation_0-mlogloss:1.20850\n",
      "[26]\tvalidation_0-mlogloss:1.20497\n",
      "[27]\tvalidation_0-mlogloss:1.20157\n",
      "[28]\tvalidation_0-mlogloss:1.19810\n",
      "[29]\tvalidation_0-mlogloss:1.19481\n",
      "[30]\tvalidation_0-mlogloss:1.19187\n",
      "[31]\tvalidation_0-mlogloss:1.18891\n",
      "[32]\tvalidation_0-mlogloss:1.18621\n",
      "[33]\tvalidation_0-mlogloss:1.18366\n",
      "[34]\tvalidation_0-mlogloss:1.18096\n",
      "[35]\tvalidation_0-mlogloss:1.17854\n",
      "[36]\tvalidation_0-mlogloss:1.17601\n",
      "[37]\tvalidation_0-mlogloss:1.17386\n",
      "[38]\tvalidation_0-mlogloss:1.17151\n",
      "[39]\tvalidation_0-mlogloss:1.16931\n",
      "[40]\tvalidation_0-mlogloss:1.16745\n",
      "[41]\tvalidation_0-mlogloss:1.16545\n",
      "[42]\tvalidation_0-mlogloss:1.16348\n",
      "[43]\tvalidation_0-mlogloss:1.16175\n",
      "[44]\tvalidation_0-mlogloss:1.15985\n",
      "[45]\tvalidation_0-mlogloss:1.15810\n",
      "[46]\tvalidation_0-mlogloss:1.15641\n",
      "[47]\tvalidation_0-mlogloss:1.15485\n",
      "[48]\tvalidation_0-mlogloss:1.15328\n",
      "[49]\tvalidation_0-mlogloss:1.15165\n"
     ]
    },
    {
     "name": "stderr",
     "output_type": "stream",
     "text": [
      "100%|██████████| 5/5 [01:06<00:00, 13.26s/it]\n"
     ]
    }
   ],
   "source": [
    "from tqdm import tqdm\n",
    "acc_lst_cat = []\n",
    "auroc_lst_cat = []\n",
    "for i in tqdm(range(5)):\n",
    "    x_train, x_valid, y_train, y_valid = x_train_cv[i], x_valid_cv[i], y_train_cv[i], y_valid_cv[i]\n",
    "    train_data, valid_data = _Dataset('XGB', x_train, x_valid, y_train, y_valid)\n",
    "    catboost_model, y_valid_pred, accuracy, auroc = train_model('XGB', xgb_params, x_train, x_valid, y_train, y_valid, train_data, valid_data)\n",
    "    acc_lst_cat.append(accuracy)\n",
    "    auroc_lst_cat.append(auroc)"
   ]
  },
  {
   "cell_type": "code",
   "execution_count": 78,
   "metadata": {},
   "outputs": [
    {
     "name": "stdout",
     "output_type": "stream",
     "text": [
      "- cv acc: 0.44965753424657534, auroc: 0.6286540347800857\n"
     ]
    }
   ],
   "source": [
    "print(f\"- cv acc: {np.mean(acc_lst_cat)}, auroc: {np.mean(auroc_lst_cat)}\")"
   ]
  },
  {
   "cell_type": "markdown",
   "metadata": {},
   "source": [
    "### 3. Catboost\n",
    "- cv accuracy = 0.4474"
   ]
  },
  {
   "cell_type": "code",
   "execution_count": 79,
   "metadata": {},
   "outputs": [],
   "source": [
    "cat_params = {\n",
    "    \"iterations\": 120,  # 원래 1000이었지만, 최적화 결과(120)를 고려하여 중간값으로 설정\n",
    "    \"learning_rate\": 0.1284644554526709,  # 최적화 결과 사용\n",
    "    \"depth\": 4,  # 최적화 결과 사용\n",
    "    \"loss_function\": \"MultiClass\",  # 원래 설정 유지\n",
    "    \"eval_metric\": \"AUC\",  # 원래 설정 유지\n",
    "    \"random_seed\": 42,  # 원래 설정 유지\n",
    "    \"verbose\": 100,  # 원래 설정 유지\n",
    "    \"l2_leaf_reg\": 5.234014807063696,  # 최적화 결과 사용\n",
    "    \"bagging_temperature\": 1,  # 원래 설정 유지\n",
    "    \"cat_features\": [],  # 원래 설정 유지\n",
    "    \"early_stopping_rounds\": 50  # 새로 추가, 조기 종료를 위해\n",
    "}"
   ]
  },
  {
   "cell_type": "code",
   "execution_count": 80,
   "metadata": {},
   "outputs": [
    {
     "name": "stderr",
     "output_type": "stream",
     "text": [
      "100%|██████████| 5/5 [01:11<00:00, 14.35s/it]\n"
     ]
    }
   ],
   "source": [
    "from tqdm import tqdm\n",
    "acc_lst_cat = []\n",
    "auroc_lst_cat = []\n",
    "for i in tqdm(range(5)):\n",
    "    x_train, x_valid, y_train, y_valid = x_train_cv[i], x_valid_cv[i], y_train_cv[i], y_valid_cv[i]\n",
    "    train_data, valid_data = _Dataset('CatBoost', x_train, x_valid, y_train, y_valid)\n",
    "    catboost_model, y_valid_pred, accuracy, auroc = train_model('CatBoost', cat_params, x_train, x_valid, y_train, y_valid, train_data, valid_data)\n",
    "    acc_lst_cat.append(accuracy)\n",
    "    auroc_lst_cat.append(auroc)"
   ]
  },
  {
   "cell_type": "code",
   "execution_count": 81,
   "metadata": {},
   "outputs": [
    {
     "name": "stdout",
     "output_type": "stream",
     "text": [
      "- cv acc: 0.4474885844748859, auroc: 0.6434526726067679\n"
     ]
    }
   ],
   "source": [
    "print(f\"- cv acc: {np.mean(acc_lst_cat)}, auroc: {np.mean(auroc_lst_cat)}\")"
   ]
  },
  {
   "cell_type": "code",
   "execution_count": null,
   "metadata": {},
   "outputs": [],
   "source": []
  },
  {
   "cell_type": "markdown",
   "metadata": {},
   "source": [
    "# Inference"
   ]
  },
  {
   "cell_type": "code",
   "execution_count": 83,
   "metadata": {},
   "outputs": [],
   "source": [
    "x_train_full = train_df.drop([\"target\", \"ID\", \"target_direction\"], axis = 1)\n",
    "y_train_full = train_df[\"target\"].astype(int)\n",
    "train_data = xgb.DMatrix(x_train_full, label=y_train_full)\n",
    "xgb_model = final_train_model(\"XGB\", xgb_params, x_train_full, y_train_full, train_data)"
   ]
  },
  {
   "cell_type": "code",
   "execution_count": 85,
   "metadata": {},
   "outputs": [],
   "source": [
    "submission_df = pd.read_csv('../data/sample_submission.csv')\n",
    "submission_df = test('XGB', drop_colunm = [\"target\", \"ID\", \"target_direction\"], model = xgb_model, test_df = test_df, submission_df = submission_df)"
   ]
  },
  {
   "cell_type": "code",
   "execution_count": 86,
   "metadata": {},
   "outputs": [
    {
     "data": {
      "text/plain": [
       "target\n",
       "2    1762\n",
       "1     924\n",
       "0      73\n",
       "3      33\n",
       "Name: count, dtype: int64"
      ]
     },
     "execution_count": 86,
     "metadata": {},
     "output_type": "execute_result"
    }
   ],
   "source": [
    "submission_df.target.value_counts()"
   ]
  },
  {
   "cell_type": "code",
   "execution_count": 140,
   "metadata": {},
   "outputs": [],
   "source": [
    "submission_df.to_csv(\"output/0926_cat(dir_pred)_xgb__hypertune.csv\", index=False)"
   ]
  }
 ],
 "metadata": {
  "kernelspec": {
   "display_name": "base",
   "language": "python",
   "name": "python3"
  },
  "language_info": {
   "codemirror_mode": {
    "name": "ipython",
    "version": 3
   },
   "file_extension": ".py",
   "mimetype": "text/x-python",
   "name": "python",
   "nbconvert_exporter": "python",
   "pygments_lexer": "ipython3",
   "version": "3.11.9"
  }
 },
 "nbformat": 4,
 "nbformat_minor": 2
}
